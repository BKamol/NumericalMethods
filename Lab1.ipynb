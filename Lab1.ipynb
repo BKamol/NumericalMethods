{
 "cells": [
  {
   "cell_type": "markdown",
   "metadata": {},
   "source": [
    "[a, b] = [0, 5], h=0,02, eps=0,00000001"
   ]
  },
  {
   "cell_type": "code",
   "execution_count": null,
   "metadata": {},
   "outputs": [
    {
     "ename": "",
     "evalue": "",
     "output_type": "error",
     "traceback": [
      "\u001b[1;31mRunning cells with 'c:\\Users\\SystemX\\AppData\\Local\\Programs\\Python\\Python312\\python.exe' requires the ipykernel package.\n",
      "\u001b[1;31mRun the following command to install 'ipykernel' into the Python environment. \n",
      "\u001b[1;31mCommand: 'c:/Users/SystemX/AppData/Local/Programs/Python/Python312/python.exe -m pip install ipykernel -U --user --force-reinstall'"
     ]
    }
   ],
   "source": [
    "def Si(x, eps=0.0000001):\n",
    "    n = 0\n",
    "    a = x\n",
    "    q = -x*x*(2*n+1) / ((2*n+3)*(2*n+3)*(2*n+2))\n",
    "    fx = a\n",
    "\n",
    "    while abs(a) >= eps:\n",
    "        n += 1\n",
    "        q = -x*x*(2*n+1) / ((2*n+3)*(2*n+3)*(2*n+2))\n",
    "        a *= q\n",
    "        fx += a\n",
    "\n",
    "    return fx\n",
    "\n",
    "def dSi(x, eps=0.0000001):\n",
    "    n = 0\n",
    "    a = 1\n",
    "    q = -x*x* / ((2*n+2)*(2*n+3))\n",
    "    fx = a\n",
    "\n",
    "    while abs(a) >= eps:\n",
    "        n += 1\n",
    "        q = -x*x*(2*n+1) / ((2*n+3)*(2*n+3)*(2*n+2))\n",
    "        a *= q\n",
    "        fx += a\n",
    "\n",
    "    return fx"
   ]
  },
  {
   "cell_type": "code",
   "execution_count": null,
   "metadata": {},
   "outputs": [],
   "source": [
    "a, b, h = 0, 5, 0.02\n",
    "\n",
    "while (a <= 0.02):\n",
    "    print(f\"Si({a}) = {Si(a)}\")\n",
    "    a += h\n"
   ]
  },
  {
   "cell_type": "code",
   "execution_count": null,
   "metadata": {},
   "outputs": [],
   "source": []
  }
 ],
 "metadata": {
  "kernelspec": {
   "display_name": "Python 3",
   "language": "python",
   "name": "python3"
  },
  "language_info": {
   "name": "python",
   "version": "3.12.0"
  }
 },
 "nbformat": 4,
 "nbformat_minor": 2
}
