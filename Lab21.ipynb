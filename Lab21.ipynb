{
 "cells": [
  {
   "cell_type": "markdown",
   "metadata": {},
   "source": [
    "[a,b] = [-1, 1];  \n",
    "\n",
    "q(x) = 1/eps, eps = 0.05, \n",
    "\n",
    "f(x) = (1/eps + pi^2)cos(pi*x), \n",
    "\n",
    "u = cos(pi*x) + exp((x-1)/eps^(1/2)) + exp(-(x+1)/eps^(1/2))"
   ]
  },
  {
   "cell_type": "code",
   "execution_count": 10,
   "metadata": {},
   "outputs": [],
   "source": [
    "import numpy as np\n",
    "np.set_printoptions(precision=10, suppress=True, linewidth=160)"
   ]
  },
  {
   "cell_type": "code",
   "execution_count": 134,
   "metadata": {},
   "outputs": [
    {
     "name": "stdout",
     "output_type": "stream",
     "text": [
      "0.00013048243864866027 0.00013048243864862815\n"
     ]
    }
   ],
   "source": [
    "a, b = -1, 1\n",
    "eps = 0.05\n",
    "\n",
    "q = 1/eps\n",
    "\n",
    "f = lambda x: (1/eps + np.pi**2)*np.cos(np.pi*x) \n",
    "\n",
    "u = lambda x: np.cos(np.pi*x) + np.exp(((x-1)/eps**(1/2))) + np.exp(-(x+1)/eps**(1/2)) #точное решение\n",
    "\n",
    "\n",
    "ua, ub = u(-1), u(1)\n",
    "print(ua, ub)"
   ]
  },
  {
   "cell_type": "code",
   "execution_count": 154,
   "metadata": {},
   "outputs": [
    {
     "name": "stdout",
     "output_type": "stream",
     "text": [
      "A: [   0. -625. -625. -625. -625. -625. -625. -625. -625. -625. -625. -625. -625. -625. -625. -625. -625. -625. -625. -625. -625. -625. -625. -625. -625. -625.\n",
      " -625. -625. -625. -625. -625. -625. -625. -625. -625. -625. -625. -625. -625. -625. -625. -625. -625. -625. -625. -625. -625. -625. -625. -625.    0.] 51\n",
      "B: [   1. 1270. 1270. 1270. 1270. 1270. 1270. 1270. 1270. 1270. 1270. 1270. 1270. 1270. 1270. 1270. 1270. 1270. 1270. 1270. 1270. 1270. 1270. 1270. 1270. 1270.\n",
      " 1270. 1270. 1270. 1270. 1270. 1270. 1270. 1270. 1270. 1270. 1270. 1270. 1270. 1270. 1270. 1270. 1270. 1270. 1270. 1270. 1270. 1270. 1270. 1270.    1.] 51\n",
      "C: [   0. -625. -625. -625. -625. -625. -625. -625. -625. -625. -625. -625. -625. -625. -625. -625. -625. -625. -625. -625. -625. -625. -625. -625. -625. -625.\n",
      " -625. -625. -625. -625. -625. -625. -625. -625. -625. -625. -625. -625. -625. -625. -625. -625. -625. -625. -625. -625. -625. -625. -625. -625.    0.] 51\n",
      "F: [  0.0001304824 -29.6340736488 -28.9311958525 -27.7720558149 -26.1749338669 -24.1650175757 -21.7740045219 -19.0396024096 -16.0049343935 -12.7178590012\n",
      "  -9.2302153752  -5.5970057388  -1.8755279785   1.8755279785   5.5970057388   9.2302153752  12.7178590012  16.0049343935  19.0396024096  21.7740045219\n",
      "  24.1650175757  26.1749338669  27.7720558149  28.9311958525  29.6340736488  29.8696044011  29.6340736488  28.9311958525  27.7720558149  26.1749338669\n",
      "  24.1650175757  21.7740045219  19.0396024096  16.0049343935  12.7178590012   9.2302153752   5.5970057388   1.8755279785  -1.8755279785  -5.5970057388\n",
      "  -9.2302153752 -12.7178590012 -16.0049343935 -19.0396024096 -21.7740045219 -24.1650175757 -26.1749338669 -27.7720558149 -28.9311958525 -29.6340736488\n",
      "   0.0001304824] 51\n"
     ]
    }
   ],
   "source": [
    "N = 50\n",
    "h = (b-a)/N\n",
    "nodes = np.arange(a,b+h,h)\n",
    "fi = np.vectorize(f)(nodes)\n",
    "qi = q\n",
    "ui = np.vectorize(u)(nodes)\n",
    "#print(nodes)\n",
    "\n",
    "AA = np.zeros((N+1, N+1))\n",
    "AA[0, 0] = 1\n",
    "AA[-1, -1] = 1\n",
    "j = 0\n",
    "for i in range(1, len(AA)-1):\n",
    "    AA[i][j] = -1/(h**2)\n",
    "    AA[i][j+1] = 2/(h**2)+qi\n",
    "    AA[i][j+2] = -1/(h**2)\n",
    "    j+=1\n",
    "#print(AA)\n",
    "\n",
    "#нижняя диагональ\n",
    "A = np.zeros(N+1)\n",
    "A[1:N] = -1/(h**2)\n",
    "print('A:', A, len(A))\n",
    "\n",
    "#главная диагональ\n",
    "B = np.zeros(N+1)\n",
    "B[0], B[-1] = 1, 1\n",
    "B[1:N] = 2/(h**2)+qi\n",
    "print('B:', B, len(B))\n",
    "\n",
    "#верхняя диагональ\n",
    "C = np.zeros(N+1)\n",
    "C[1:N] = -1/(h**2)\n",
    "print('C:', C, len(C))\n",
    "\n",
    "#правая часть системы\n",
    "F = np.zeros(N+1)\n",
    "F[0], F[-1] = ua, ub\n",
    "#F[1], F[-2] = fi[1] + ua/(h**2), fi[-2] + ub/(h**2)\n",
    "F[1: N] = fi[1: N]\n",
    "print('F:', F, len(F))\n"
   ]
  },
  {
   "cell_type": "markdown",
   "metadata": {},
   "source": [
    "## Метод прогонки"
   ]
  },
  {
   "cell_type": "code",
   "execution_count": 31,
   "metadata": {},
   "outputs": [],
   "source": [
    "def progonka(A, B, C, F):\n",
    "    \"\"\"\n",
    "    метод прогонки,\n",
    "    A, B, C - диагональ под главной, главная дагональ и диагональ над главной соответственно,\n",
    "    F - правая часть системы\n",
    "    \"\"\"\n",
    "    n = len(A)\n",
    "    alpha = np.zeros(n)\n",
    "    beta = np.zeros(n)\n",
    "    x = np.zeros(n)\n",
    "    alpha[0] = -C[0]/B[0]\n",
    "    beta[0] = F[0]/B[0]\n",
    "\n",
    "    for i in range(1, n):\n",
    "        alpha[i] = -C[i-1]/(A[i-1]*alpha[i-1] + B[i-1])\n",
    "        beta[i] = (F[i-1] - A[i-1]*beta[i-1])/(A[i-1]*alpha[i-1] + B[i-1])\n",
    "\n",
    "    x[n-1] = (F[n-1] - A[n-1]*beta[n-1])/(A[n-1]*alpha[n-1] + B[n-1])\n",
    "\n",
    "    for i in range(n-1, 0, -1):\n",
    "        x[i-1] = alpha[i]*x[i] + beta[i]\n",
    "\n",
    "    return np.array(x)\n"
   ]
  },
  {
   "cell_type": "code",
   "execution_count": 235,
   "metadata": {},
   "outputs": [
    {
     "data": {
      "text/plain": [
       "array([ 0.0001304824, -0.3114451293, -0.3998561231, -0.3258697279, -0.141084819 ,  0.1080987806,  0.3792648763,  0.6344675381,  0.8416267901,  0.9762252075,\n",
       "        1.022845782 ,  0.9762252075,  0.8416267901,  0.6344675381,  0.3792648763,  0.1080987806, -0.141084819 , -0.3258697279, -0.3998561231, -0.3114451293,\n",
       "        0.0001304824])"
      ]
     },
     "execution_count": 235,
     "metadata": {},
     "output_type": "execute_result"
    }
   ],
   "source": [
    "ui"
   ]
  },
  {
   "cell_type": "code",
   "execution_count": 236,
   "metadata": {},
   "outputs": [
    {
     "data": {
      "text/plain": [
       "array([ 0.0001304824, -0.3099414812, -0.397924922 , -0.3238431714, -0.1389609256,  0.110431289 ,  0.3819097613,  0.637468032 ,  0.8449507797,  0.9797735075,\n",
       "        1.0264741177,  0.9797735075,  0.8449507797,  0.637468032 ,  0.3819097613,  0.110431289 , -0.1389609256, -0.3238431714, -0.397924922 , -0.3099414812,\n",
       "        0.0001304824])"
      ]
     },
     "execution_count": 236,
     "metadata": {},
     "output_type": "execute_result"
    }
   ],
   "source": [
    "progonka(A, B, C, F)"
   ]
  },
  {
   "cell_type": "code",
   "execution_count": 237,
   "metadata": {},
   "outputs": [
    {
     "data": {
      "text/plain": [
       "0.003628335706417296"
      ]
     },
     "execution_count": 237,
     "metadata": {},
     "output_type": "execute_result"
    }
   ],
   "source": [
    "max(abs(ui - progonka(A, B, C, F)))"
   ]
  },
  {
   "cell_type": "code",
   "execution_count": 238,
   "metadata": {},
   "outputs": [
    {
     "data": {
      "text/plain": [
       "0.010000000000000002"
      ]
     },
     "execution_count": 238,
     "metadata": {},
     "output_type": "execute_result"
    }
   ],
   "source": [
    "h**2"
   ]
  },
  {
   "cell_type": "markdown",
   "metadata": {},
   "source": [
    "## Метод Якоби"
   ]
  },
  {
   "cell_type": "code",
   "execution_count": 239,
   "metadata": {},
   "outputs": [
    {
     "name": "stdout",
     "output_type": "stream",
     "text": [
      "[[   1.    0.    0.    0.    0.    0.    0.    0.    0.    0.    0.    0.    0.    0.    0.    0.    0.    0.    0.    0.    0.]\n",
      " [-100.  220. -100.    0.    0.    0.    0.    0.    0.    0.    0.    0.    0.    0.    0.    0.    0.    0.    0.    0.    0.]\n",
      " [   0. -100.  220. -100.    0.    0.    0.    0.    0.    0.    0.    0.    0.    0.    0.    0.    0.    0.    0.    0.    0.]\n",
      " [   0.    0. -100.  220. -100.    0.    0.    0.    0.    0.    0.    0.    0.    0.    0.    0.    0.    0.    0.    0.    0.]\n",
      " [   0.    0.    0. -100.  220. -100.    0.    0.    0.    0.    0.    0.    0.    0.    0.    0.    0.    0.    0.    0.    0.]\n",
      " [   0.    0.    0.    0. -100.  220. -100.    0.    0.    0.    0.    0.    0.    0.    0.    0.    0.    0.    0.    0.    0.]\n",
      " [   0.    0.    0.    0.    0. -100.  220. -100.    0.    0.    0.    0.    0.    0.    0.    0.    0.    0.    0.    0.    0.]\n",
      " [   0.    0.    0.    0.    0.    0. -100.  220. -100.    0.    0.    0.    0.    0.    0.    0.    0.    0.    0.    0.    0.]\n",
      " [   0.    0.    0.    0.    0.    0.    0. -100.  220. -100.    0.    0.    0.    0.    0.    0.    0.    0.    0.    0.    0.]\n",
      " [   0.    0.    0.    0.    0.    0.    0.    0. -100.  220. -100.    0.    0.    0.    0.    0.    0.    0.    0.    0.    0.]\n",
      " [   0.    0.    0.    0.    0.    0.    0.    0.    0. -100.  220. -100.    0.    0.    0.    0.    0.    0.    0.    0.    0.]\n",
      " [   0.    0.    0.    0.    0.    0.    0.    0.    0.    0. -100.  220. -100.    0.    0.    0.    0.    0.    0.    0.    0.]\n",
      " [   0.    0.    0.    0.    0.    0.    0.    0.    0.    0.    0. -100.  220. -100.    0.    0.    0.    0.    0.    0.    0.]\n",
      " [   0.    0.    0.    0.    0.    0.    0.    0.    0.    0.    0.    0. -100.  220. -100.    0.    0.    0.    0.    0.    0.]\n",
      " [   0.    0.    0.    0.    0.    0.    0.    0.    0.    0.    0.    0.    0. -100.  220. -100.    0.    0.    0.    0.    0.]\n",
      " [   0.    0.    0.    0.    0.    0.    0.    0.    0.    0.    0.    0.    0.    0. -100.  220. -100.    0.    0.    0.    0.]\n",
      " [   0.    0.    0.    0.    0.    0.    0.    0.    0.    0.    0.    0.    0.    0.    0. -100.  220. -100.    0.    0.    0.]\n",
      " [   0.    0.    0.    0.    0.    0.    0.    0.    0.    0.    0.    0.    0.    0.    0.    0. -100.  220. -100.    0.    0.]\n",
      " [   0.    0.    0.    0.    0.    0.    0.    0.    0.    0.    0.    0.    0.    0.    0.    0.    0. -100.  220. -100.    0.]\n",
      " [   0.    0.    0.    0.    0.    0.    0.    0.    0.    0.    0.    0.    0.    0.    0.    0.    0.    0. -100.  220. -100.]\n",
      " [   0.    0.    0.    0.    0.    0.    0.    0.    0.    0.    0.    0.    0.    0.    0.    0.    0.    0.    0.    0.    1.]]\n"
     ]
    }
   ],
   "source": [
    "AA = np.zeros((N+1, N+1))\n",
    "AA[0, 0] = 1\n",
    "AA[-1, -1] = 1\n",
    "j = 0\n",
    "for i in range(1, len(AA)-1):\n",
    "    AA[i][j] = -1/(h**2)\n",
    "    AA[i][j+1] = 2/(h**2)+qi\n",
    "    AA[i][j+2] = -1/(h**2)\n",
    "    j+=1\n",
    "print(AA)"
   ]
  },
  {
   "cell_type": "code",
   "execution_count": 240,
   "metadata": {},
   "outputs": [],
   "source": [
    "def Jacobi(A, b, eps=0.001, x=None):\n",
    "    if x is None:\n",
    "        x = np.zeros(A.shape[0])\n",
    "                                                                                                                                                                \n",
    "    D = np.diag(A)\n",
    "    R = A - np.diagflat(D)\n",
    "\n",
    "    c = 0                                                                                                                                            \n",
    "    while np.linalg.norm(A@x - b) > eps:\n",
    "        c += 1\n",
    "        x = (b - R@x) / D\n",
    "\n",
    "    return (x, c)"
   ]
  },
  {
   "cell_type": "code",
   "execution_count": 241,
   "metadata": {},
   "outputs": [
    {
     "name": "stdout",
     "output_type": "stream",
     "text": [
      "[ 0.0001304824 -0.3099435632 -0.3979290265 -0.3238492139 -0.1389687331  0.1104218772  0.3818990147  0.637456172   0.8449381459  0.9797603602  1.0264608335\n",
      "  0.9797603602  0.8449381459  0.637456172   0.3818990147  0.1104218772 -0.1389687331 -0.3238492139 -0.3979290265 -0.3099435632  0.0001304824]\n"
     ]
    },
    {
     "data": {
      "text/plain": [
       "99"
      ]
     },
     "execution_count": 241,
     "metadata": {},
     "output_type": "execute_result"
    }
   ],
   "source": [
    "x, c = Jacobi(AA, F)\n",
    "print(x)\n",
    "c"
   ]
  },
  {
   "cell_type": "code",
   "execution_count": 242,
   "metadata": {},
   "outputs": [
    {
     "data": {
      "text/plain": [
       "array([ 0.0001304824, -0.3114451293, -0.3998561231, -0.3258697279, -0.141084819 ,  0.1080987806,  0.3792648763,  0.6344675381,  0.8416267901,  0.9762252075,\n",
       "        1.022845782 ,  0.9762252075,  0.8416267901,  0.6344675381,  0.3792648763,  0.1080987806, -0.141084819 , -0.3258697279, -0.3998561231, -0.3114451293,\n",
       "        0.0001304824])"
      ]
     },
     "execution_count": 242,
     "metadata": {},
     "output_type": "execute_result"
    }
   ],
   "source": [
    "ui"
   ]
  },
  {
   "cell_type": "code",
   "execution_count": 243,
   "metadata": {},
   "outputs": [
    {
     "data": {
      "text/plain": [
       "0.0036150515522122006"
      ]
     },
     "execution_count": 243,
     "metadata": {},
     "output_type": "execute_result"
    }
   ],
   "source": [
    "max(abs(x - ui))"
   ]
  },
  {
   "cell_type": "code",
   "execution_count": 244,
   "metadata": {},
   "outputs": [
    {
     "data": {
      "text/plain": [
       "0.0009446992926631771"
      ]
     },
     "execution_count": 244,
     "metadata": {},
     "output_type": "execute_result"
    }
   ],
   "source": [
    "np.linalg.norm(AA@x - F)"
   ]
  },
  {
   "cell_type": "markdown",
   "metadata": {},
   "source": [
    "## Метод релаксации"
   ]
  },
  {
   "cell_type": "code",
   "execution_count": 53,
   "metadata": {},
   "outputs": [],
   "source": [
    "def Relaxation(A, b, w=1, eps=0.001, x=None):\n",
    "    n = len(A)\n",
    "    if x is None:\n",
    "        x = np.zeros(n)\n",
    "        \n",
    "    c = 0\n",
    "    while np.linalg.norm(A@x - b) > eps:\n",
    "        c += 1\n",
    "        for i in range(n):\n",
    "            s1 = -sum(A[i][j] * x[j] for j in range(i))/A[i][i]\n",
    "            s2 = -sum(A[i][j] * x[j] for j in range(i + 1, n))/A[i][i]\n",
    "            x[i] = (1-w)*x[i] +  w*(b[i]/A[i][i] + s1 + s2)\n",
    "\n",
    "    return (x, c)"
   ]
  },
  {
   "cell_type": "code",
   "execution_count": 55,
   "metadata": {},
   "outputs": [
    {
     "name": "stdout",
     "output_type": "stream",
     "text": [
      "2239 3.1926459390652084e-05\n"
     ]
    }
   ],
   "source": [
    "x, c = Relaxation(AA, F, 1.4)\n",
    "print(c, max(abs(x - ui)))"
   ]
  },
  {
   "cell_type": "code",
   "execution_count": 56,
   "metadata": {},
   "outputs": [
    {
     "ename": "KeyboardInterrupt",
     "evalue": "",
     "output_type": "error",
     "traceback": [
      "\u001b[1;31m---------------------------------------------------------------------------\u001b[0m",
      "\u001b[1;31mKeyboardInterrupt\u001b[0m                         Traceback (most recent call last)",
      "Cell \u001b[1;32mIn[56], line 3\u001b[0m\n\u001b[0;32m      1\u001b[0m bestw, minc \u001b[38;5;241m=\u001b[39m \u001b[38;5;241m1\u001b[39m, c\n\u001b[0;32m      2\u001b[0m \u001b[38;5;28;01mfor\u001b[39;00m w \u001b[38;5;129;01min\u001b[39;00m np\u001b[38;5;241m.\u001b[39marange(\u001b[38;5;241m0.1\u001b[39m, \u001b[38;5;241m2\u001b[39m, \u001b[38;5;241m0.1\u001b[39m):\n\u001b[1;32m----> 3\u001b[0m     x, c \u001b[38;5;241m=\u001b[39m \u001b[43mRelaxation\u001b[49m\u001b[43m(\u001b[49m\u001b[43mAA\u001b[49m\u001b[43m,\u001b[49m\u001b[43m \u001b[49m\u001b[43mF\u001b[49m\u001b[43m,\u001b[49m\u001b[43m \u001b[49m\u001b[43mw\u001b[49m\u001b[43m)\u001b[49m\n\u001b[0;32m      4\u001b[0m     \u001b[38;5;28;01mif\u001b[39;00m (c \u001b[38;5;241m<\u001b[39m\u001b[38;5;241m=\u001b[39m minc):\n\u001b[0;32m      5\u001b[0m         bestw \u001b[38;5;241m=\u001b[39m w\n",
      "Cell \u001b[1;32mIn[53], line 11\u001b[0m, in \u001b[0;36mRelaxation\u001b[1;34m(A, b, w, eps, x)\u001b[0m\n\u001b[0;32m      9\u001b[0m     \u001b[38;5;28;01mfor\u001b[39;00m i \u001b[38;5;129;01min\u001b[39;00m \u001b[38;5;28mrange\u001b[39m(n):\n\u001b[0;32m     10\u001b[0m         s1 \u001b[38;5;241m=\u001b[39m \u001b[38;5;241m-\u001b[39m\u001b[38;5;28msum\u001b[39m(A[i][j] \u001b[38;5;241m*\u001b[39m x[j] \u001b[38;5;28;01mfor\u001b[39;00m j \u001b[38;5;129;01min\u001b[39;00m \u001b[38;5;28mrange\u001b[39m(i))\u001b[38;5;241m/\u001b[39mA[i][i]\n\u001b[1;32m---> 11\u001b[0m         s2 \u001b[38;5;241m=\u001b[39m \u001b[38;5;241m-\u001b[39m\u001b[38;5;28msum\u001b[39m(A[i][j] \u001b[38;5;241m*\u001b[39m x[j] \u001b[38;5;28;01mfor\u001b[39;00m j \u001b[38;5;129;01min\u001b[39;00m \u001b[38;5;28;43mrange\u001b[39;49m\u001b[43m(\u001b[49m\u001b[43mi\u001b[49m\u001b[43m \u001b[49m\u001b[38;5;241;43m+\u001b[39;49m\u001b[43m \u001b[49m\u001b[38;5;241;43m1\u001b[39;49m\u001b[43m,\u001b[49m\u001b[43m \u001b[49m\u001b[43mn\u001b[49m\u001b[43m)\u001b[49m)\u001b[38;5;241m/\u001b[39mA[i][i]\n\u001b[0;32m     12\u001b[0m         x[i] \u001b[38;5;241m=\u001b[39m (\u001b[38;5;241m1\u001b[39m\u001b[38;5;241m-\u001b[39mw)\u001b[38;5;241m*\u001b[39mx[i] \u001b[38;5;241m+\u001b[39m  w\u001b[38;5;241m*\u001b[39m(b[i]\u001b[38;5;241m/\u001b[39mA[i][i] \u001b[38;5;241m+\u001b[39m s1 \u001b[38;5;241m+\u001b[39m s2)\n\u001b[0;32m     14\u001b[0m \u001b[38;5;28;01mreturn\u001b[39;00m (x, c)\n",
      "\u001b[1;31mKeyboardInterrupt\u001b[0m: "
     ]
    }
   ],
   "source": [
    "bestw, minc = 1, c\n",
    "for w in np.arange(0.1, 2, 0.1):\n",
    "    x, c = Relaxation(AA, F, w)\n",
    "    if (c <= minc):\n",
    "        bestw = w\n",
    "        minc = c\n",
    "\n",
    "    print(f\"w={round(w, 1)},    loss={max(abs(x - ui))},    c={c}\")\n",
    "\n",
    "print(bestw, minc)"
   ]
  },
  {
   "cell_type": "markdown",
   "metadata": {},
   "source": [
    "## Метод наискорейшего спуска"
   ]
  },
  {
   "cell_type": "code",
   "execution_count": 57,
   "metadata": {},
   "outputs": [],
   "source": [
    "def GradDesc(A, b, eps=0.01, x=None):\n",
    "    n = len(A)\n",
    "    if x is None:\n",
    "        x = np.zeros(n)\n",
    "        \n",
    "    c = 0\n",
    "    r = A@x - b #вектор невязки\n",
    "    while np.linalg.norm(r) > eps:\n",
    "        c += 1\n",
    "        alpha = (r.T@r)/(A@r@r.T)\n",
    "        x = x - alpha*r\n",
    "        r = A@x - b\n",
    "\n",
    "    return (x, c)"
   ]
  },
  {
   "cell_type": "code",
   "execution_count": 58,
   "metadata": {},
   "outputs": [
    {
     "name": "stdout",
     "output_type": "stream",
     "text": [
      "8646 8.435154773076642e-05\n"
     ]
    }
   ],
   "source": [
    "x, c = GradDesc(AA, F)\n",
    "print(c, max(abs(x - ui)))"
   ]
  },
  {
   "cell_type": "markdown",
   "metadata": {},
   "source": [
    "## Метод сопряженных градиентов"
   ]
  },
  {
   "cell_type": "code",
   "execution_count": 157,
   "metadata": {},
   "outputs": [],
   "source": [
    "def ConjGrad(A, b, eps=0.001, x=None):\n",
    "    n = len(A)\n",
    "    if x is None:\n",
    "        x = np.zeros(n)\n",
    "        \n",
    "    r0 = b - A@x\n",
    "    ro0 = r0@r0.T\n",
    "    p1 = r0\n",
    "    q1 = A@p1\n",
    "\n",
    "    alpha1 = ro0/(p1@q1.T)\n",
    "    x = x + alpha1*p1\n",
    "    r1 = r0 - alpha1*q1\n",
    "    k = 1\n",
    "    while np.linalg.norm(A@x - b) > eps:\n",
    "        k += 1\n",
    "        ro1 = r1@r1.T\n",
    "        beta1 = ro1/ro0\n",
    "        p2 = r1 + beta1*p1\n",
    "        q2 = A@p2\n",
    "\n",
    "        alpha1 = ro1/(p2@q2.T)\n",
    "        x = x + alpha1*p2\n",
    "        r1 = r1 - alpha1*q2\n",
    "\n",
    "        r0 = r1\n",
    "        ro0 = ro1\n",
    "        p1 = p2\n",
    "        q1 = q2\n",
    "\n",
    "    return (x, k)"
   ]
  },
  {
   "cell_type": "code",
   "execution_count": 158,
   "metadata": {},
   "outputs": [
    {
     "name": "stdout",
     "output_type": "stream",
     "text": [
      "25 0.000578263981932059\n"
     ]
    }
   ],
   "source": [
    "x, k = ConjGrad(AA, F)\n",
    "print(k, max(abs(x - ui)))"
   ]
  },
  {
   "cell_type": "code",
   "execution_count": 15,
   "metadata": {},
   "outputs": [
    {
     "data": {
      "text/plain": [
       "array([[1.          , 0.8228584085],\n",
       "       [0.8228584085, 1.          ]])"
      ]
     },
     "execution_count": 15,
     "metadata": {},
     "output_type": "execute_result"
    }
   ],
   "source": [
    "a = np.array([1, 3, -3, 2, 4, 8])\n",
    "b = np.array([-2, 3, 0, 1, 3, 6])\n",
    "np.corrcoef(a, b)"
   ]
  },
  {
   "cell_type": "code",
   "execution_count": null,
   "metadata": {},
   "outputs": [],
   "source": []
  }
 ],
 "metadata": {
  "kernelspec": {
   "display_name": "Python 3",
   "language": "python",
   "name": "python3"
  },
  "language_info": {
   "codemirror_mode": {
    "name": "ipython",
    "version": 3
   },
   "file_extension": ".py",
   "mimetype": "text/x-python",
   "name": "python",
   "nbconvert_exporter": "python",
   "pygments_lexer": "ipython3",
   "version": "3.12.0"
  }
 },
 "nbformat": 4,
 "nbformat_minor": 2
}
