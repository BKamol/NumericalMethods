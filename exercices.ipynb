{
 "cells": [
  {
   "cell_type": "code",
   "execution_count": 2,
   "metadata": {},
   "outputs": [],
   "source": [
    "import numpy as np"
   ]
  },
  {
   "cell_type": "code",
   "execution_count": 3,
   "metadata": {},
   "outputs": [],
   "source": [
    "#kij - algorithm LU\n",
    "def kij_LU(A):\n",
    "    n = len(A)\n",
    "    for k in range(1, n):\n",
    "        for i in range(k+1, n):\n",
    "            A[i][k] = A[i][k]/A[k][k]\n",
    "            for j in range(k+1, n):\n",
    "                A[i][j] = A[i][j] - A[i][k]*A[k][j]\n"
   ]
  },
  {
   "cell_type": "code",
   "execution_count": 4,
   "metadata": {},
   "outputs": [
    {
     "name": "stdout",
     "output_type": "stream",
     "text": [
      "(1.414213562373095, 2)\n",
      "(1.4142135623730698, 5)\n"
     ]
    }
   ],
   "source": [
    "def newton_method(a, x0=1.4, eps=1e-7):\n",
    "    x1 = 1/2*(x0+a/x0)\n",
    "    x2 = 1/2*(x1+a/x1)\n",
    "    z = (x2 - x1) / (1 - (x2-x1)/ (x1 - x0))\n",
    "    c = 1\n",
    "    while (abs(z) > eps):\n",
    "        c += 1\n",
    "        x0 = x1\n",
    "        x1 = x2\n",
    "        x2 = 1/2*(x2+a/x2)\n",
    "        z = (x2 - x1) / (1 - (x2-x1)/ (x1 - x0))\n",
    "    return x2, c\n",
    "\n",
    "def sek_method(a, x0=1.4, x1=4, eps=1e-7):\n",
    "    x2 = x1 - ((x1-x0)*(x1**2-a)/(x1**2-x0**2))\n",
    "    z = (x2 - x1) / (1 - (x2-x1)/ (x1 - x0))\n",
    "    c = 1\n",
    "    while (abs(z) > eps):\n",
    "        c += 1\n",
    "        x0 = x1\n",
    "        x1 = x2\n",
    "        x2 = x1 - ((x1-x0)*(x1**2-a)/(x1**2-x0**2))\n",
    "        z = (x2 - x1) / (1 - (x2-x1)/ (x1 - x0))\n",
    "    return x2, c\n",
    "\n",
    "print(newton_method(2))\n",
    "print(sek_method(2))"
   ]
  },
  {
   "cell_type": "code",
   "execution_count": 18,
   "metadata": {},
   "outputs": [
    {
     "name": "stdout",
     "output_type": "stream",
     "text": [
      "0.5885327451414843\n"
     ]
    }
   ],
   "source": [
    "def f(x0=0, k=50):\n",
    "    x1 = np.arcsin(np.exp(-x0))\n",
    "    for _ in range(k):\n",
    "        x1 = np.arcsin(np.exp(-x1))\n",
    "    return x1\n",
    "\n",
    "print(f())"
   ]
  },
  {
   "cell_type": "code",
   "execution_count": null,
   "metadata": {},
   "outputs": [],
   "source": []
  }
 ],
 "metadata": {
  "kernelspec": {
   "display_name": "Python 3",
   "language": "python",
   "name": "python3"
  },
  "language_info": {
   "codemirror_mode": {
    "name": "ipython",
    "version": 3
   },
   "file_extension": ".py",
   "mimetype": "text/x-python",
   "name": "python",
   "nbconvert_exporter": "python",
   "pygments_lexer": "ipython3",
   "version": "3.12.4"
  }
 },
 "nbformat": 4,
 "nbformat_minor": 2
}
