{
 "cells": [
  {
   "cell_type": "markdown",
   "metadata": {},
   "source": [
    "[a,b] = [-1, 1];  \n",
    "\n",
    "q(x) = 1/eps, eps = 0.05, \n",
    "\n",
    "f(x) = (1/eps + pi^2)cos(pi*x), \n",
    "\n",
    "u = cos(pi*x) + exp((x-1)/eps^(1/2)) + exp(-(x+1)/eps^(1/2))"
   ]
  },
  {
   "cell_type": "code",
   "execution_count": 2,
   "metadata": {},
   "outputs": [],
   "source": [
    "import numpy as np\n",
    "np.set_printoptions(precision=10, suppress=True, linewidth=160)"
   ]
  },
  {
   "cell_type": "code",
   "execution_count": 3,
   "metadata": {},
   "outputs": [
    {
     "name": "stdout",
     "output_type": "stream",
     "text": [
      "0.00013048243864866027 0.00013048243864862815\n"
     ]
    }
   ],
   "source": [
    "a, b = -1, 1\n",
    "eps = 0.05\n",
    "\n",
    "q = 1/eps\n",
    "\n",
    "f = lambda x: (1/eps + np.pi**2)*np.cos(np.pi*x) \n",
    "\n",
    "u = lambda x: np.cos(np.pi*x) + np.exp(((x-1)/eps**(1/2))) + np.exp(-(x+1)/eps**(1/2)) #точное решение\n",
    "\n",
    "\n",
    "ua, ub = u(-1), u(1)\n",
    "print(ua, ub)"
   ]
  },
  {
   "cell_type": "code",
   "execution_count": 5,
   "metadata": {},
   "outputs": [
    {
     "name": "stdout",
     "output_type": "stream",
     "text": [
      "A: [   0. -100. -100. -100. -100. -100. -100. -100. -100. -100. -100. -100. -100. -100. -100. -100. -100. -100. -100. -100.    0.] 21\n",
      "B: [  1. 220. 220. 220. 220. 220. 220. 220. 220. 220. 220. 220. 220. 220. 220. 220. 220. 220. 220. 220.   1.] 21\n",
      "C: [   0. -100. -100. -100. -100. -100. -100. -100. -100. -100. -100. -100. -100. -100. -100. -100. -100. -100. -100. -100.    0.] 21\n",
      "F: [  0.0001304824 -28.4076819048 -24.1650175757 -17.5569129588  -9.2302153752  -0.             9.2302153752  17.5569129588  24.1650175757  28.4076819048\n",
      "  29.8696044011  28.4076819048  24.1650175757  17.5569129588   9.2302153752   0.            -9.2302153752 -17.5569129588 -24.1650175757 -28.4076819048\n",
      "   0.0001304824] 21\n"
     ]
    }
   ],
   "source": [
    "N = 20\n",
    "h = (b-a)/N\n",
    "nodes = np.arange(a,b+h,h)\n",
    "fi = np.vectorize(f)(nodes)\n",
    "qi = q\n",
    "ui = np.vectorize(u)(nodes)\n",
    "#print(nodes)\n",
    "\n",
    "AA = np.zeros((N+1, N+1))\n",
    "AA[0, 0] = 1\n",
    "AA[-1, -1] = 1\n",
    "j = 0\n",
    "for i in range(1, len(AA)-1):\n",
    "    AA[i][j] = -1/(h**2)\n",
    "    AA[i][j+1] = 2/(h**2)+qi\n",
    "    AA[i][j+2] = -1/(h**2)\n",
    "    j+=1\n",
    "#print(AA)\n",
    "\n",
    "#нижняя диагональ\n",
    "A = np.zeros(N+1)\n",
    "A[1:N] = -1/(h**2)\n",
    "print('A:', A, len(A))\n",
    "\n",
    "#главная диагональ\n",
    "B = np.zeros(N+1)\n",
    "B[0], B[-1] = 1, 1\n",
    "B[1:N] = 2/(h**2)+qi\n",
    "print('B:', B, len(B))\n",
    "\n",
    "#верхняя диагональ\n",
    "C = np.zeros(N+1)\n",
    "C[1:N] = -1/(h**2)\n",
    "print('C:', C, len(C))\n",
    "\n",
    "#правая часть системы\n",
    "F = np.zeros(N+1)\n",
    "F[0], F[-1] = ua, ub\n",
    "#F[1], F[-2] = fi[1] + ua/(h**2), fi[-2] + ub/(h**2)\n",
    "F[1: N] = fi[1: N]\n",
    "print('F:', F, len(F))\n"
   ]
  },
  {
   "cell_type": "markdown",
   "metadata": {},
   "source": [
    "## Метод прогонки"
   ]
  },
  {
   "cell_type": "code",
   "execution_count": 234,
   "metadata": {},
   "outputs": [],
   "source": [
    "def progonka(A, B, C, F):\n",
    "    \"\"\"\n",
    "    метод прогонки,\n",
    "    A, B, C - диагональ под главной, главная дагональ и диагональ над главной соответственно,\n",
    "    F - правая часть системы\n",
    "    \"\"\"\n",
    "    n = len(A)\n",
    "    alpha = np.zeros(n)\n",
    "    beta = np.zeros(n)\n",
    "    x = np.zeros(n)\n",
    "    alpha[0] = -C[0]/B[0]\n",
    "    beta[0] = F[0]/B[0]\n",
    "\n",
    "    for i in range(1, n):\n",
    "        alpha[i] = -C[i-1]/(A[i-1]*alpha[i-1] + B[i-1])\n",
    "        beta[i] = (F[i-1] - A[i-1]*beta[i-1])/(A[i-1]*alpha[i-1] + B[i-1])\n",
    "\n",
    "    x[n-1] = (F[n-1] - A[n-1]*beta[n-1])/(A[n-1]*alpha[n-1] + B[n-1])\n",
    "\n",
    "    for i in range(n-1, 0, -1):\n",
    "        x[i-1] = alpha[i]*x[i] + beta[i]\n",
    "\n",
    "    return np.array(x)\n"
   ]
  },
  {
   "cell_type": "code",
   "execution_count": 235,
   "metadata": {},
   "outputs": [
    {
     "data": {
      "text/plain": [
       "array([ 0.0001304824, -0.3114451293, -0.3998561231, -0.3258697279, -0.141084819 ,  0.1080987806,  0.3792648763,  0.6344675381,  0.8416267901,  0.9762252075,\n",
       "        1.022845782 ,  0.9762252075,  0.8416267901,  0.6344675381,  0.3792648763,  0.1080987806, -0.141084819 , -0.3258697279, -0.3998561231, -0.3114451293,\n",
       "        0.0001304824])"
      ]
     },
     "execution_count": 235,
     "metadata": {},
     "output_type": "execute_result"
    }
   ],
   "source": [
    "ui"
   ]
  },
  {
   "cell_type": "code",
   "execution_count": 236,
   "metadata": {},
   "outputs": [
    {
     "data": {
      "text/plain": [
       "array([ 0.0001304824, -0.3099414812, -0.397924922 , -0.3238431714, -0.1389609256,  0.110431289 ,  0.3819097613,  0.637468032 ,  0.8449507797,  0.9797735075,\n",
       "        1.0264741177,  0.9797735075,  0.8449507797,  0.637468032 ,  0.3819097613,  0.110431289 , -0.1389609256, -0.3238431714, -0.397924922 , -0.3099414812,\n",
       "        0.0001304824])"
      ]
     },
     "execution_count": 236,
     "metadata": {},
     "output_type": "execute_result"
    }
   ],
   "source": [
    "progonka(A, B, C, F)"
   ]
  },
  {
   "cell_type": "code",
   "execution_count": 237,
   "metadata": {},
   "outputs": [
    {
     "data": {
      "text/plain": [
       "0.003628335706417296"
      ]
     },
     "execution_count": 237,
     "metadata": {},
     "output_type": "execute_result"
    }
   ],
   "source": [
    "max(abs(ui - progonka(A, B, C, F)))"
   ]
  },
  {
   "cell_type": "code",
   "execution_count": 238,
   "metadata": {},
   "outputs": [
    {
     "data": {
      "text/plain": [
       "0.010000000000000002"
      ]
     },
     "execution_count": 238,
     "metadata": {},
     "output_type": "execute_result"
    }
   ],
   "source": [
    "h**2"
   ]
  },
  {
   "cell_type": "markdown",
   "metadata": {},
   "source": [
    "## Метод Якоби"
   ]
  },
  {
   "cell_type": "code",
   "execution_count": 239,
   "metadata": {},
   "outputs": [
    {
     "name": "stdout",
     "output_type": "stream",
     "text": [
      "[[   1.    0.    0.    0.    0.    0.    0.    0.    0.    0.    0.    0.    0.    0.    0.    0.    0.    0.    0.    0.    0.]\n",
      " [-100.  220. -100.    0.    0.    0.    0.    0.    0.    0.    0.    0.    0.    0.    0.    0.    0.    0.    0.    0.    0.]\n",
      " [   0. -100.  220. -100.    0.    0.    0.    0.    0.    0.    0.    0.    0.    0.    0.    0.    0.    0.    0.    0.    0.]\n",
      " [   0.    0. -100.  220. -100.    0.    0.    0.    0.    0.    0.    0.    0.    0.    0.    0.    0.    0.    0.    0.    0.]\n",
      " [   0.    0.    0. -100.  220. -100.    0.    0.    0.    0.    0.    0.    0.    0.    0.    0.    0.    0.    0.    0.    0.]\n",
      " [   0.    0.    0.    0. -100.  220. -100.    0.    0.    0.    0.    0.    0.    0.    0.    0.    0.    0.    0.    0.    0.]\n",
      " [   0.    0.    0.    0.    0. -100.  220. -100.    0.    0.    0.    0.    0.    0.    0.    0.    0.    0.    0.    0.    0.]\n",
      " [   0.    0.    0.    0.    0.    0. -100.  220. -100.    0.    0.    0.    0.    0.    0.    0.    0.    0.    0.    0.    0.]\n",
      " [   0.    0.    0.    0.    0.    0.    0. -100.  220. -100.    0.    0.    0.    0.    0.    0.    0.    0.    0.    0.    0.]\n",
      " [   0.    0.    0.    0.    0.    0.    0.    0. -100.  220. -100.    0.    0.    0.    0.    0.    0.    0.    0.    0.    0.]\n",
      " [   0.    0.    0.    0.    0.    0.    0.    0.    0. -100.  220. -100.    0.    0.    0.    0.    0.    0.    0.    0.    0.]\n",
      " [   0.    0.    0.    0.    0.    0.    0.    0.    0.    0. -100.  220. -100.    0.    0.    0.    0.    0.    0.    0.    0.]\n",
      " [   0.    0.    0.    0.    0.    0.    0.    0.    0.    0.    0. -100.  220. -100.    0.    0.    0.    0.    0.    0.    0.]\n",
      " [   0.    0.    0.    0.    0.    0.    0.    0.    0.    0.    0.    0. -100.  220. -100.    0.    0.    0.    0.    0.    0.]\n",
      " [   0.    0.    0.    0.    0.    0.    0.    0.    0.    0.    0.    0.    0. -100.  220. -100.    0.    0.    0.    0.    0.]\n",
      " [   0.    0.    0.    0.    0.    0.    0.    0.    0.    0.    0.    0.    0.    0. -100.  220. -100.    0.    0.    0.    0.]\n",
      " [   0.    0.    0.    0.    0.    0.    0.    0.    0.    0.    0.    0.    0.    0.    0. -100.  220. -100.    0.    0.    0.]\n",
      " [   0.    0.    0.    0.    0.    0.    0.    0.    0.    0.    0.    0.    0.    0.    0.    0. -100.  220. -100.    0.    0.]\n",
      " [   0.    0.    0.    0.    0.    0.    0.    0.    0.    0.    0.    0.    0.    0.    0.    0.    0. -100.  220. -100.    0.]\n",
      " [   0.    0.    0.    0.    0.    0.    0.    0.    0.    0.    0.    0.    0.    0.    0.    0.    0.    0. -100.  220. -100.]\n",
      " [   0.    0.    0.    0.    0.    0.    0.    0.    0.    0.    0.    0.    0.    0.    0.    0.    0.    0.    0.    0.    1.]]\n"
     ]
    }
   ],
   "source": [
    "AA = np.zeros((N+1, N+1))\n",
    "AA[0, 0] = 1\n",
    "AA[-1, -1] = 1\n",
    "j = 0\n",
    "for i in range(1, len(AA)-1):\n",
    "    AA[i][j] = -1/(h**2)\n",
    "    AA[i][j+1] = 2/(h**2)+qi\n",
    "    AA[i][j+2] = -1/(h**2)\n",
    "    j+=1\n",
    "print(AA)"
   ]
  },
  {
   "cell_type": "code",
   "execution_count": 240,
   "metadata": {},
   "outputs": [],
   "source": [
    "def Jacobi(A, b, eps=0.001, x=None):\n",
    "    if x is None:\n",
    "        x = np.zeros(A.shape[0])\n",
    "                                                                                                                                                                \n",
    "    D = np.diag(A)\n",
    "    R = A - np.diagflat(D)\n",
    "\n",
    "    c = 0                                                                                                                                            \n",
    "    while np.linalg.norm(A@x - b) > eps:\n",
    "        c += 1\n",
    "        x = (b - R@x) / D\n",
    "\n",
    "    return (x, c)"
   ]
  },
  {
   "cell_type": "code",
   "execution_count": 241,
   "metadata": {},
   "outputs": [
    {
     "name": "stdout",
     "output_type": "stream",
     "text": [
      "[ 0.0001304824 -0.3099435632 -0.3979290265 -0.3238492139 -0.1389687331  0.1104218772  0.3818990147  0.637456172   0.8449381459  0.9797603602  1.0264608335\n",
      "  0.9797603602  0.8449381459  0.637456172   0.3818990147  0.1104218772 -0.1389687331 -0.3238492139 -0.3979290265 -0.3099435632  0.0001304824]\n"
     ]
    },
    {
     "data": {
      "text/plain": [
       "99"
      ]
     },
     "execution_count": 241,
     "metadata": {},
     "output_type": "execute_result"
    }
   ],
   "source": [
    "x, c = Jacobi(AA, F)\n",
    "print(x)\n",
    "c"
   ]
  },
  {
   "cell_type": "code",
   "execution_count": 242,
   "metadata": {},
   "outputs": [
    {
     "data": {
      "text/plain": [
       "array([ 0.0001304824, -0.3114451293, -0.3998561231, -0.3258697279, -0.141084819 ,  0.1080987806,  0.3792648763,  0.6344675381,  0.8416267901,  0.9762252075,\n",
       "        1.022845782 ,  0.9762252075,  0.8416267901,  0.6344675381,  0.3792648763,  0.1080987806, -0.141084819 , -0.3258697279, -0.3998561231, -0.3114451293,\n",
       "        0.0001304824])"
      ]
     },
     "execution_count": 242,
     "metadata": {},
     "output_type": "execute_result"
    }
   ],
   "source": [
    "ui"
   ]
  },
  {
   "cell_type": "code",
   "execution_count": 243,
   "metadata": {},
   "outputs": [
    {
     "data": {
      "text/plain": [
       "0.0036150515522122006"
      ]
     },
     "execution_count": 243,
     "metadata": {},
     "output_type": "execute_result"
    }
   ],
   "source": [
    "max(abs(x - ui))"
   ]
  },
  {
   "cell_type": "code",
   "execution_count": 244,
   "metadata": {},
   "outputs": [
    {
     "data": {
      "text/plain": [
       "0.0009446992926631771"
      ]
     },
     "execution_count": 244,
     "metadata": {},
     "output_type": "execute_result"
    }
   ],
   "source": [
    "np.linalg.norm(AA@x - F)"
   ]
  },
  {
   "cell_type": "markdown",
   "metadata": {},
   "source": [
    "## Метод релаксации"
   ]
  },
  {
   "cell_type": "code",
   "execution_count": 80,
   "metadata": {},
   "outputs": [],
   "source": [
    "def Relaxation(A, b, w=1, eps=0.01, x=None):\n",
    "    n = len(A)\n",
    "    if x is None:\n",
    "        x = np.zeros(n)\n",
    "        \n",
    "    c = 0\n",
    "    while np.linalg.norm(A@x - b) > eps:\n",
    "        c += 1\n",
    "        for i in range(n):\n",
    "            s1 = -sum(A[i][j] * x[j] for j in range(i))/A[i][i]\n",
    "            s2 = -sum(A[i][j] * x[j] for j in range(i + 1, n))/A[i][i]\n",
    "            x[i] = (1-w)*x[i] +  w*(b[i]/A[i][i] + s1 + s2)\n",
    "\n",
    "    return (x, c)"
   ]
  },
  {
   "cell_type": "code",
   "execution_count": 81,
   "metadata": {},
   "outputs": [
    {
     "name": "stdout",
     "output_type": "stream",
     "text": [
      "40 0.0035309318534324508\n"
     ]
    }
   ],
   "source": [
    "x, c = Relaxation(AA, F)\n",
    "print(c, max(abs(x - ui)))"
   ]
  },
  {
   "cell_type": "code",
   "execution_count": 82,
   "metadata": {},
   "outputs": [
    {
     "name": "stdout",
     "output_type": "stream",
     "text": [
      "w=0.1,    loss=0.003488377477003146,    c=773\n",
      "w=0.2,    loss=0.003488478647883264,    c=366\n",
      "w=0.3,    loss=0.0034924149286970074,    c=231\n",
      "w=0.4,    loss=0.003493936386519847,    c=163\n",
      "w=0.5,    loss=0.0034946339843429097,    c=122\n",
      "w=0.6,    loss=0.0035003342960138184,    c=95\n",
      "w=0.7,    loss=0.00349803765439316,    c=75\n",
      "w=0.8,    loss=0.003514419224970311,    c=61\n",
      "w=0.9,    loss=0.0035137659382220576,    c=49\n",
      "w=1.0,    loss=0.0035309318534324508,    c=40\n",
      "w=1.1,    loss=0.0035411177365609614,    c=32\n",
      "w=1.2,    loss=0.003557432108974634,    c=25\n",
      "w=1.3,    loss=0.0036039022918297192,    c=19\n",
      "w=1.4,    loss=0.003627922377482884,    c=19\n",
      "w=1.5,    loss=0.003625618952060261,    c=21\n",
      "w=1.6,    loss=0.003627341095988834,    c=24\n",
      "w=1.7,    loss=0.0035982899142148472,    c=30\n",
      "w=1.8,    loss=0.0036428955066660773,    c=46\n",
      "w=1.9,    loss=0.0036085243755856755,    c=89\n",
      "1.4000000000000001 19\n"
     ]
    }
   ],
   "source": [
    "bestw, minc = 1, c\n",
    "for w in np.arange(0.1, 2, 0.1):\n",
    "    x, c = Relaxation(AA, F, w)\n",
    "    if (c <= minc):\n",
    "        bestw = w\n",
    "        minc = c\n",
    "\n",
    "    print(f\"w={round(w, 1)},    loss={max(abs(x - ui))},    c={c}\")\n",
    "\n",
    "print(bestw, minc)"
   ]
  },
  {
   "cell_type": "markdown",
   "metadata": {},
   "source": [
    "## Метод наискорейшего спуска"
   ]
  },
  {
   "cell_type": "code",
   "execution_count": 86,
   "metadata": {},
   "outputs": [],
   "source": [
    "def GradDesc(A, b, eps=0.01, x=None):\n",
    "    n = len(A)\n",
    "    if x is None:\n",
    "        x = np.zeros(n)\n",
    "        \n",
    "    c = 0\n",
    "    r = A@x - b #вектор невязки\n",
    "    while np.linalg.norm(r) > eps:\n",
    "        c += 1\n",
    "        alpha = (r.T@r)/(A@r@r.T)\n",
    "        x = x - alpha*r\n",
    "        r = A@x - b\n",
    "\n",
    "    return (x, c)"
   ]
  },
  {
   "cell_type": "code",
   "execution_count": 87,
   "metadata": {},
   "outputs": [
    {
     "name": "stdout",
     "output_type": "stream",
     "text": [
      "76 0.0035318788717935146\n"
     ]
    }
   ],
   "source": [
    "x, c = GradDesc(AA, F)\n",
    "print(c, max(abs(x - ui)))"
   ]
  },
  {
   "cell_type": "markdown",
   "metadata": {},
   "source": [
    "## Метод сопряженных градиентов"
   ]
  },
  {
   "cell_type": "code",
   "execution_count": 94,
   "metadata": {},
   "outputs": [],
   "source": [
    "def ConjGrad(A, b, eps=0.01, x=None):\n",
    "    n = len(A)\n",
    "    if x is None:\n",
    "        x = np.zeros(n)\n",
    "        \n",
    "    c = 0\n",
    "    r = b - A@x\n",
    "    p = r\n",
    "    while np.linalg.norm(r) > eps:\n",
    "        c += 1\n",
    "        alpha = (r.T@r)/(p.T@A@p)\n",
    "        x = x + alpha*r\n",
    "        r1 = r - alpha*A@p\n",
    "\n",
    "        beta = r1.T@r1/(r.T@r)\n",
    "        p = r1 + beta*p\n",
    "        r = r1\n",
    "\n",
    "    return (x, c)"
   ]
  },
  {
   "cell_type": "code",
   "execution_count": 95,
   "metadata": {},
   "outputs": [
    {
     "name": "stdout",
     "output_type": "stream",
     "text": [
      "10 0.3033906641519447\n"
     ]
    }
   ],
   "source": [
    "x, c = ConjGrad(AA, F)\n",
    "print(c, max(abs(x - ui)))"
   ]
  },
  {
   "cell_type": "code",
   "execution_count": null,
   "metadata": {},
   "outputs": [],
   "source": []
  }
 ],
 "metadata": {
  "kernelspec": {
   "display_name": "Python 3",
   "language": "python",
   "name": "python3"
  },
  "language_info": {
   "codemirror_mode": {
    "name": "ipython",
    "version": 3
   },
   "file_extension": ".py",
   "mimetype": "text/x-python",
   "name": "python",
   "nbconvert_exporter": "python",
   "pygments_lexer": "ipython3",
   "version": "3.12.0"
  }
 },
 "nbformat": 4,
 "nbformat_minor": 2
}
