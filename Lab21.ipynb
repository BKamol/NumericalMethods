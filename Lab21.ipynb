{
 "cells": [
  {
   "cell_type": "markdown",
   "metadata": {},
   "source": [
    "[a,b] = [-1, 1];  q(x) = 1/eps, eps = 0.05, f(x) = (1/eps + pi^2)cos(pi*x), u = cos(pi*x) + exp((x-1)/eps^(1/2)) + exp(-(x+1)/eps^(1/2))"
   ]
  },
  {
   "cell_type": "code",
   "execution_count": 1,
   "metadata": {},
   "outputs": [],
   "source": [
    "import numpy as np\n",
    "np.set_printoptions(precision=2, suppress=True, linewidth=160)"
   ]
  },
  {
   "cell_type": "code",
   "execution_count": 2,
   "metadata": {},
   "outputs": [],
   "source": [
    "from math import exp, cos, pi\n",
    "\n",
    "a, b = -1, 1\n",
    "eps = 0.05\n",
    "\n",
    "q = 1/eps\n",
    "\n",
    "f = lambda x: (1/eps + pi**2)*cos(pi*x) \n",
    "\n",
    "u = lambda x: cos(pi*x) + exp(((x-1)/eps**(1/2))) + exp(-(x+1)/eps**(1/2)) #точное решение\n",
    "\n",
    "\n",
    "ua, ub = u(-1), u(1)"
   ]
  },
  {
   "cell_type": "code",
   "execution_count": 3,
   "metadata": {},
   "outputs": [
    {
     "name": "stdout",
     "output_type": "stream",
     "text": [
      "A: [   0. -100. -100. -100. -100. -100. -100. -100. -100. -100. -100. -100. -100. -100. -100. -100. -100. -100. -100. -100.    0.] 21\n",
      "B: [  1. 220. 220. 220. 220. 220. 220. 220. 220. 220. 220. 220. 220. 220. 220. 220. 220. 220. 220. 220.   1.] 21\n",
      "C: [   0. -100. -100. -100. -100. -100. -100. -100. -100. -100. -100. -100. -100. -100. -100. -100. -100. -100. -100. -100.    0.] 21\n",
      "F: [  0.   -28.39 -24.17 -17.56  -9.23  -0.     9.23  17.56  24.17  28.41  29.87  28.41  24.17  17.56   9.23   0.    -9.23 -17.56 -24.17 -28.39   0.  ] 21\n"
     ]
    }
   ],
   "source": [
    "h = 0.1\n",
    "N = int((b - a) / h)\n",
    "nodes = np.arange(a,b+h,h)\n",
    "fi = np.vectorize(f)(nodes)\n",
    "qi = q\n",
    "ui = np.vectorize(u)(nodes)\n",
    "#print(nodes)\n",
    "\n",
    "\n",
    "\"\"\"A = np.zeros((N+1, N+1))\n",
    "A[0, 0] = 1\n",
    "A[-1, -1] = 1\n",
    "j = 0\n",
    "for i in range(1, len(A)-1):\n",
    "    A[i][j] = -1/(h**2)\n",
    "    A[i][j+1] = 2/(h**2)+qi\n",
    "    A[i][j+2] = -1/(h**2)\n",
    "    j+=1\n",
    "print(A)\"\"\"\n",
    "\n",
    "#нижняя диагональ\n",
    "A = np.zeros(N+1)\n",
    "A[0], A[-1] = 0, 0\n",
    "A[1:N] = -1/(h**2)\n",
    "print('A:', A, len(A))\n",
    "\n",
    "#главная диагональ\n",
    "B = np.zeros(N+1)\n",
    "B[0], B[-1] = 1, 1\n",
    "B[1:N] = 2/(h**2)+qi\n",
    "print('B:', B, len(B))\n",
    "\n",
    "#верхняя диагональ\n",
    "C = np.zeros(N+1)\n",
    "C[0], C[-1] = 0, 0\n",
    "C[1:N] = -1/(h**2)\n",
    "print('C:', C, len(C))\n",
    "\n",
    "#правая часть системы\n",
    "F = np.zeros(N+1)\n",
    "F[0], F[-1] = ua, ub\n",
    "F[1], F[-2] = fi[1] + ua/(h**2), fi[-2] + ub/(h**2)\n",
    "for i in range(2, len(F)-2):\n",
    "    F[i] = fi[i]\n",
    "print('F:', F, len(F))\n"
   ]
  },
  {
   "cell_type": "code",
   "execution_count": 4,
   "metadata": {},
   "outputs": [],
   "source": [
    "def progonka(A, B, C, F):\n",
    "    \"\"\"\n",
    "    метод прогонки,\n",
    "    A, B, C - диагональ под главной, главная дагональ и диагональ над главной соответственно,\n",
    "    F - правая часть системы\n",
    "    \"\"\"\n",
    "    n = len(F)\n",
    "    alpha = np.zeros(n)\n",
    "    beta = np.zeros(n)\n",
    "    x = np.zeros(n)\n",
    "    alpha[0] = -C[0]/B[0]\n",
    "    beta[0] = F[0]/B[0]\n",
    "\n",
    "    for i in range(1, n):\n",
    "        alpha[i] = -C[i]/(A[i]*alpha[i-1] + B[i])\n",
    "        beta[i] = (F[i] - A[i]*beta[i-1])/(A[i]*alpha[i-1] + B[i])\n",
    "\n",
    "    x[n-1] = beta[n-1]\n",
    "\n",
    "    for i in range(n-1, 0, -1):\n",
    "        x[i-1] = alpha[i-1]*x[i] + beta[i-1]\n",
    "\n",
    "    return x\n"
   ]
  },
  {
   "cell_type": "code",
   "execution_count": 5,
   "metadata": {},
   "outputs": [
    {
     "data": {
      "text/plain": [
       "array([ 0.  , -0.31, -0.4 , -0.33, -0.14,  0.11,  0.38,  0.63,  0.84,  0.98,  1.02,  0.98,  0.84,  0.63,  0.38,  0.11, -0.14, -0.33, -0.4 , -0.31,  0.  ])"
      ]
     },
     "execution_count": 5,
     "metadata": {},
     "output_type": "execute_result"
    }
   ],
   "source": [
    "ui"
   ]
  },
  {
   "cell_type": "code",
   "execution_count": 6,
   "metadata": {},
   "outputs": [
    {
     "data": {
      "text/plain": [
       "array([ 0.  , -0.31, -0.4 , -0.32, -0.14,  0.11,  0.38,  0.64,  0.84,  0.98,  1.03,  0.98,  0.84,  0.64,  0.38,  0.11, -0.14, -0.32, -0.4 , -0.31,  0.  ])"
      ]
     },
     "execution_count": 6,
     "metadata": {},
     "output_type": "execute_result"
    }
   ],
   "source": [
    "progonka(A, B, C, F)"
   ]
  },
  {
   "cell_type": "code",
   "execution_count": null,
   "metadata": {},
   "outputs": [],
   "source": []
  },
  {
   "cell_type": "code",
   "execution_count": null,
   "metadata": {},
   "outputs": [],
   "source": []
  }
 ],
 "metadata": {
  "kernelspec": {
   "display_name": "Python 3",
   "language": "python",
   "name": "python3"
  },
  "language_info": {
   "codemirror_mode": {
    "name": "ipython",
    "version": 3
   },
   "file_extension": ".py",
   "mimetype": "text/x-python",
   "name": "python",
   "nbconvert_exporter": "python",
   "pygments_lexer": "ipython3",
   "version": "3.12.0"
  }
 },
 "nbformat": 4,
 "nbformat_minor": 2
}
